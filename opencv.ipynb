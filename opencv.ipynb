{
 "cells": [
  {
   "cell_type": "markdown",
   "id": "f8e1cd4d-a329-4076-a714-fc1de194fbaa",
   "metadata": {},
   "source": [
    "## 一、opencv-python读取、展示和存储图像"
   ]
  },
  {
   "cell_type": "markdown",
   "id": "a9ba5e6b-5a96-4260-8860-1bdfb14790f6",
   "metadata": {
    "tags": []
   },
   "source": [
    "### 1、imread函数\n",
    "读取数字图像  \n",
    "\n",
    "`cv2.imread(path_of_image, intflag)`  \n",
    "参数一： 需要读入图像的完整的路径  \n",
    "参数二： 标志以什么形式读入图像，可以选择一下方式：\n",
    "\n",
    "* cv2.IMREAD_COLOR： 加载彩色图像。任何图像的透明度都将被忽略。它是默认标志\n",
    "* cv2.IMREAD_GRAYSCALE：以灰度模式加载图像\n",
    "* cv2.IMREAD_UNCHANGED：保留读取图片原有的颜色通道\n",
    "\n",
    "\n",
    "* 1 ：等同于cv2.IMREAD_COLOR\n",
    "* 0 ：等同于cv2.IMREAD_GRAYSCALE\n",
    "* -1 ：等同于cv2.IMREAD_UNCHANGED"
   ]
  },
  {
   "cell_type": "code",
   "execution_count": 1,
   "id": "46c4d6b1-87da-4c51-bab9-ee25480c8796",
   "metadata": {},
   "outputs": [
    {
     "name": "stdout",
     "output_type": "stream",
     "text": [
      "dd\n"
     ]
    }
   ],
   "source": [
    "import cv2\n",
    "import imutils\n",
    "import numpy as np\n",
    "\n",
    "gray_img = cv2.imread('test.jpeg',0) # 加载灰度图像\n",
    "rgb_img = cv2.imread('test.jpeg') # 加载RGB彩色图像\n",
    "print(\"dd\")"
   ]
  },
  {
   "cell_type": "markdown",
   "id": "35943844-6cb1-4c1e-bf9d-5c2c9467af5f",
   "metadata": {},
   "source": [
    "### 2、imshow函数\n",
    "在窗口显示图像，窗口自适应于图像大小，也可以通过imutils模块调整显示图像的窗口大小  \n",
    "\n",
    "`cv2.imshow(window_name,image)`  \n",
    "参数一：窗口名称 str  \n",
    "参数二：图像对象 ndarray"
   ]
  },
  {
   "cell_type": "code",
   "execution_count": 2,
   "id": "be378082-f0d6-40cc-b74c-3de8bf721a40",
   "metadata": {},
   "outputs": [],
   "source": [
    "cv2.imshow('origin image',rgb_img) # 显示原图\n",
    "cv2.imshow('origin image size',imutils.resize(rgb_img,800)) # 利用imutils模块调整显示图像大小"
   ]
  },
  {
   "cell_type": "markdown",
   "id": "713509af-7850-47d0-8479-bdd82e11105d",
   "metadata": {},
   "source": [
    "### 3、imwrite函数\n",
    "将图像保存到本地\n",
    "\n",
    "`cv2.imwrite(image_filename,image)`  \n",
    "参数一：保存的图像名称 str\n",
    "参数二：图像对象 ndarray"
   ]
  },
  {
   "cell_type": "code",
   "execution_count": null,
   "id": "81d6f258-634a-4ced-9cb6-f191952a8ffa",
   "metadata": {},
   "outputs": [],
   "source": [
    "cv2.imwrite('rgb_img.jpg',rgb_img) # 将图像保存为jpg文件\n",
    "cv2.imwrite('gray_img.png',gray_img) # 将图像保存为png文件 "
   ]
  },
  {
   "cell_type": "markdown",
   "id": "bda32b10-34d0-4825-a960-eda05d49551d",
   "metadata": {},
   "source": [
    "### 4、窗口销毁函数\n",
    "`cv2.destroyWindow(windows_name) # 销毁单个特定窗口`  \n",
    "`cv2.destroyAllWindows() # 销毁全部窗口`\n",
    "\n",
    "`cv2.waitKey(time_of_milliseconds)`  \n",
    "参数大于0，等待的毫秒数；参数小于等于0，等待键盘敲击\n",
    "```python\n",
    "if cv2.waitKey(0) == 27: # ESC键\n",
    "    cv2.destroyAllWindows()\n",
    "if cv2.waitKey(-1) == ord('A'): # 键A\n",
    "    cv2.destroyWindow('origin image')\n",
    "```\n",
    "\n"
   ]
  },
  {
   "cell_type": "code",
   "execution_count": 2,
   "id": "9befe033-bcdc-4307-ad11-7d5f3ebf0824",
   "metadata": {
    "tags": []
   },
   "outputs": [],
   "source": [
    "import cv2\n",
    "import imutils\n",
    "import numpy as np\n",
    "\n",
    "rgb_img = cv2.imread('test.jpeg')\n",
    "gray_img = cv2.cvtColor(rgb_img, cv2.COLOR_BGR2GRAY)\n",
    "cv2.imshow('origin image', imutils.resize(rgb_img, 800))\n",
    "cv2.imshow('gray image', imutils.resize(gray_img, 800))\n",
    "cv2.imwrite('rgb_img.jpg', rgb_img)\n",
    "cv2.imwrite('gray_img.png', gray_img)\n",
    "\n",
    "#等待一定时间自动销毁图像窗口\n",
    "#if cv2.waitKey(10000):\n",
    "#    cv2.destroyAllWindows()\n",
    "#if cv2.waitKey(10000):\n",
    "#    cv2.destroyWindow('origin image')\n",
    "\n",
    "#接收特定键盘销毁图像窗口\n",
    "if cv2.waitKey(-1) == ord('a'):\n",
    "   cv2.destroyWindow('origin image')\n",
    "if cv2.waitKey(0) == 27:\n",
    "    cv2.destroyAllWindows()"
   ]
  },
  {
   "cell_type": "markdown",
   "id": "93b6fe8f-7883-4ddd-af5b-27e48a0477df",
   "metadata": {},
   "source": [
    "## 二、色彩空间变换函数 cv2.cvtColor\n",
    "`cv2.cvtColor(input_image,flag)`  \n",
    "参数一：图像对象 ndarray  \n",
    "参数二：图像色彩空间变换的类型\n",
    "* cv2.COLOR_BGR2GRAY： 表示将图像从BGR空间转化成灰度图，最常用\n",
    "* cv2.COLOR_BGR2HSV： 表示将图像从BGR空间转换到HSV空间\n"
   ]
  },
  {
   "cell_type": "markdown",
   "id": "45c47b73-4a32-45b3-9d1a-ca4bf04eafa7",
   "metadata": {},
   "source": [
    "使用灰度图像的原因：  \n",
    "图像的颜色主要是由于受到外界光照影响，我们做图像特征提取和识别过程时，我们要的是图像的梯度信息，也就是图像的本质内容，而颜色信息会对我们对梯度信息提取造成一定的干扰，因此我们会在做图像特征提取和识别前将图像转化为灰度图，这样同时也降低了处理的数据量并且增强了处理效果。"
   ]
  },
  {
   "cell_type": "markdown",
   "id": "7e896662-1fdd-4939-abb0-3a0f63673e88",
   "metadata": {},
   "source": [
    "## 三、绘制自定义图像"
   ]
  },
  {
   "cell_type": "markdown",
   "id": "2ff30871-119b-4fef-9478-02beb88c7322",
   "metadata": {},
   "source": [
    "### 1、绘制简单图像\n",
    "对于一个BGR彩色图像，每个像素为(BGR)的一个元组，对于灰度图像，每个像素对应一个整数"
   ]
  },
  {
   "cell_type": "code",
   "execution_count": 5,
   "id": "32dc2cd1-0bbd-45b5-bf8a-f3127765a5cd",
   "metadata": {},
   "outputs": [
    {
     "name": "stdout",
     "output_type": "stream",
     "text": [
      "(587, 900, 3)\n",
      "[160 185 105]\n",
      "[224 233 183]\n",
      "[114 117  61]\n",
      "185\n",
      "[158 160 163 164 165 168 172 175 172 176 180 182 183 185 187 190 195 196\n",
      " 197 199 202 204 206 207 208 209 210 212 214 216 218 218 217 218 220 222\n",
      " 224 225 225 225 232 231 229 227 225 225 225 225 229 226 223 223 226 233\n",
      " 241 246 250 251 252 254 254 254 254 254 254 254 253 253 252 252 251 251\n",
      " 250 249 249 247 246 246 246 246 247 245 246 245 243 242 241 240 241 239\n",
      " 239 239 238 238 238 238 237 236 235 235 235 234 231 228 229 229 228 227\n",
      " 226 225 225 224 225 225 224 222 221 220 219 218 217 215 212 210 210 209\n",
      " 206 203 202 202 202 206 210 212 211 210 212 212 212 212 211 211 211 211\n",
      " 203 204 206 207 206 205 203 201 197 195 191 186 181 177 173 171 163 156\n",
      " 148 145 144 140 132 126 131 129 128 128 131 132 131 130 130 130 131 133\n",
      " 136 137 134 131 139 139 138 137 136 135 135 134 138 137 137 137 139 142\n",
      " 146 147 145 146 147 148 150 151 153 153 151 152 153 154 156 157 158 159\n",
      " 159 160 161 162 163 165 166 166 166 168 170 171 170 170 172 174 172 172\n",
      " 172 172 171 171 171 171 169 169 169 169 169 169 169 169 172 171 171 171\n",
      " 170 170 169 169 171 171 171 171 172 172 172 172 174 174 174 174 174 172\n",
      " 171 170 170 170 169 168 167 166 166 165 168 167 166 165 164 164 164 164\n",
      " 162 162 163 164 165 165 166 167 164 164 165 165 166 166 166 167 165 165\n",
      " 165 165 165 165 165 165 170 170 169 168 165 162 160 158 158 160 162 164\n",
      " 165 165 165 164 167 165 165 166 166 164 164 166 164 164 163 163 163 162\n",
      " 162 162 159 160 161 162 163 165 166 166 165 165 165 165 165 165 165 165\n",
      " 165 164 163 162 162 162 162 163 162 161 161 161 160 160 159 159 160 160\n",
      " 160 159 159 159 158 158 154 154 154 154 152 146 138 132 134 128 126 130\n",
      " 137 145 156 167 163 164 158 142 121 105  99  98 100 105 109 109 106 106\n",
      " 110 115 113 116 119 122 124 128 133 137 136 140 144 147 148 151 155 159\n",
      " 145 149 152 152 152 153 155 156 155 154 154 154 154 154 154 154 157 157\n",
      " 157 157 157 157 157 157 155 155 155 155 155 155 155 155 155 155 155 155\n",
      " 155 155 155 155 154 154 154 154 154 154 154 154 158 153 151 153 157 154\n",
      " 143 133 136 145 153 153 148 145 149 155 150 150 150 150 150 150 150 150\n",
      " 149 150 151 151 151 151 150 149 149 148 147 147 144 138 129 123 127 125\n",
      " 127 138 149 150 139 127 113 106 105 108 107 103 107 117 119 121 126 132\n",
      " 138 142 146 147 145 145 145 145 145 145 145 145 138 138 139 140 141 142\n",
      " 142 143 144 144 143 142 141 140 140 139 135 134 131 128 125 122 120 118\n",
      " 118 119 120 120 119 117 115 114 112 109 107 106 107 106 104 102 104 102\n",
      " 100 100 101 101  99  97  96 102 109 114 124 144 171 191 175 177 172 167\n",
      " 169 164 134 100  94 100 102  99 100 104 104  99 103 104 104 106 108 111\n",
      " 113 114 116 116 117 118 120 121 122 123 126 126 126 127 127 127 127 127\n",
      " 127 127 127 127 126 126 126 126 128 129 129 130 131 132 133 133 130 130\n",
      " 130 130 130 130 130 130 131 132 133 132 129 125 121 119 114 113 111 109\n",
      " 109 109 110 111 109 109 110 110 111 112 112 112 116 118 121 123 126 130\n",
      " 136 141 134 137 140 140 139 139 140 142 140 141 142 144 144 144 143 143\n",
      " 143 143 144 147 150 150 148 145 149 147 146 147 148 149 148 146 147 146\n",
      " 147 149 151 151 149 146 142 145 148 152 154 155 155 155 154 153 151 153\n",
      " 161 157 132 103 107 105 103 103 106 111 116 120 132 139 149 155 156 158\n",
      " 161 165 165 167 168 166 164 164 169 173 164 165 166 166 166 168 170 172\n",
      " 162 170 174 173 175 177 169 157 126 124 121 117 116 116 117 118 119 120\n",
      " 121 123 125 127 128 129 124 127 128 128 127 127 128 130 128 131 134 137\n",
      " 139 142 147 151 160 159 166 181 193 194 191 189 191 189 190 195 201 202\n",
      " 196 189 189 222 232 210 204 225 231 216 226 226 225 225 226 227 228 228\n",
      " 225 222 219 218 216 211 204 198 194 191 187 185 184 182 179 177 182 182\n",
      " 183 185 188 189 187 185 187 188 193 203 214 220 220 218 219 218 217 217]\n",
      "(587, 900)\n",
      "158\n"
     ]
    }
   ],
   "source": [
    "import cv2\n",
    "rgb_image = cv2.imread(\"test.jpeg\")\n",
    "# print(rbg_image)\n",
    "print(rgb_image.shape) # (587, 900, 3) 高度587 宽度900\n",
    "# rbg_image[0]中有900个[B G R]，有587个类同rbg_image[0]\n",
    "print(rgb_image[0,0]) # [160 185 105]这是[0]的第一个[B G R]\n",
    "print(rgb_image[0,899]) # [224 233 183]这是[0]的最后一个[B G R]\n",
    "print(rgb_image[586,899]) # [114 117  61]这是[586]的最后一个[B G R]\n",
    "print(rgb_image[0,0,1]) # 185 这是[0]的第一个B\n",
    "\n",
    "gray_img=cv2.cvtColor(rgb_image,cv2.COLOR_BGR2GRAY)\n",
    "# print(gray_img[0])\n",
    "print(gray_img.shape) # (587, 900)\n",
    "print(gray_img[0,0]) # 158\n"
   ]
  },
  {
   "cell_type": "code",
   "execution_count": 1,
   "id": "135c52dc-cd46-4f40-b006-92de46be9aba",
   "metadata": {},
   "outputs": [],
   "source": [
    "### 2、对图像的简单像素操作"
   ]
  },
  {
   "cell_type": "code",
   "execution_count": 2,
   "id": "5f3306c1-97fc-43ce-9fb2-daa75514d5c4",
   "metadata": {},
   "outputs": [],
   "source": [
    "import cv2\n",
    "import imutils\n",
    "import numpy as np\n",
    "\n",
    "rgb_img = cv2.imread('test.jpeg')\n",
    "gray_img = cv2.cvtColor(rgb_img, cv2.COLOR_BGR2GRAY)\n",
    "\n",
    "# 对图像取反\n",
    "reverse_img = 255 - gray_img \n",
    "\n",
    "# 对图像像素线性变换\n",
    "random_img = np.zeros((gray_img.shape[0], gray_img.shape[1]), dtype=np.uint8)\n",
    "for i in range(gray_img.shape[0]):\n",
    "    for j in range(gray_img.shape[1]):\n",
    "        random_img[i, j] = gray_img[i, j]*1.2\n",
    "        \n",
    "cv2.imshow('reverse_img', imutils.resize(reverse_img, 800))\n",
    "cv2.imshow('random_img', imutils.resize(random_img, 800))\n",
    "if cv2.waitKey(0) == 27:\n",
    "    cv2.destroyAllWindows()"
   ]
  }
 ],
 "metadata": {
  "kernelspec": {
   "display_name": "Python 3 (ipykernel)",
   "language": "python",
   "name": "python3"
  },
  "language_info": {
   "codemirror_mode": {
    "name": "ipython",
    "version": 3
   },
   "file_extension": ".py",
   "mimetype": "text/x-python",
   "name": "python",
   "nbconvert_exporter": "python",
   "pygments_lexer": "ipython3",
   "version": "3.9.12"
  }
 },
 "nbformat": 4,
 "nbformat_minor": 5
}
